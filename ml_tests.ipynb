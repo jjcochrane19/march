{
 "cells": [
  {
   "cell_type": "code",
   "execution_count": 14,
   "id": "57098272",
   "metadata": {},
   "outputs": [],
   "source": [
    "import pandas as pd\n",
    "import numpy as np\n",
    "from sklearn.model_selection import train_test_split, GridSearchCV\n",
    "from sklearn.preprocessing import StandardScaler\n",
    "from sklearn.svm import SVC\n",
    "from sklearn.tree import DecisionTreeClassifier\n",
    "from sklearn.neighbors import KNeighborsClassifier\n",
    "from sklearn.ensemble import RandomForestClassifier\n",
    "from sklearn.linear_model import LogisticRegression\n",
    "\n",
    "train = pd.read_csv(\"train.csv\")\n",
    "test = pd.read_csv(\"test.csv\")\n",
    "\n",
    "X = train.drop(columns = [\"TEAM\", \"YEAR\", \"ROUND\", \"Unnamed: 0\"])\n",
    "y = train[\"ROUND\"]\n",
    "\n",
    "X_predict = test.drop(columns = [\"TEAM\", \"YEAR\", \"ROUND\", \"Unnamed: 0\"])\n",
    "test_info = test[[\"TEAM\", \"YEAR\"]]"
   ]
  },
  {
   "cell_type": "code",
   "execution_count": null,
   "id": "06dee6b0",
   "metadata": {},
   "outputs": [],
   "source": [
    "X_train, X_test, y_train, y_test = train_test_split(X, y, test_size = 0.2, random_state = 42)\n",
    "\n",
    "scaler = StandardScaler()\n",
    "X_train_scaled = scaler.fit_transform(X_train)\n",
    "X_test_scaled = scaler.transform(X_test)\n",
    "\n",
    "classifiers = [\n",
    "    SVC(),\n",
    "    DecisionTreeClassifier(criterion='entropy'),\n",
    "    KNeighborsClassifier(),\n",
    "    RandomForestClassifier(),\n",
    "    LogisticRegression(max_iter=1000) \n",
    "]\n",
    "\n",
    "param_grid = [\n",
    "    {'kernel': ['linear', 'rbf'], 'C': [0.001, 0.01, 0.1, 1, 10, 100, 1000]},  \n",
    "    {'max_depth': [None] + list(range(1, 31))},  \n",
    "    {'n_neighbors': list(range(1, 31))}, \n",
    "    {\"n_estimators\": list(range(1,201)), \"max_depth\": [None] + list(range(1, 51))},  \n",
    "    {'C': [0.001, 0.01, 0.1, 1, 10, 100, 1000]} \n",
    "]\n",
    "\n",
    "best_accuracy = -1\n",
    "best_classifier_index = -np.Inf\n",
    "best_classifier = None\n",
    "\n",
    "for i, classifier in enumerate(classifiers):\n",
    "    grid_search = GridSearchCV(classifier, param_grid[i], cv = 5, scoring='accuracy')\n",
    "    grid_search.fit(X_train_scaled, y_train)\n",
    "    \n",
    "    if grid_search.best_score_ > best_accuracy:\n",
    "        best_accuracy = grid_search.best_score_\n",
    "        best_classifier_index = i\n",
    "        best_classifier = grid_search.best_estimator_\n",
    "\n",
    "print(\"Best classifier:\", best_classifier)\n",
    "print(\"Best accuracy:\", best_accuracy)"
   ]
  },
  {
   "cell_type": "code",
   "execution_count": null,
   "id": "57d785fe",
   "metadata": {},
   "outputs": [],
   "source": []
  }
 ],
 "metadata": {
  "kernelspec": {
   "display_name": "Python 3 (ipykernel)",
   "language": "python",
   "name": "python3"
  },
  "language_info": {
   "codemirror_mode": {
    "name": "ipython",
    "version": 3
   },
   "file_extension": ".py",
   "mimetype": "text/x-python",
   "name": "python",
   "nbconvert_exporter": "python",
   "pygments_lexer": "ipython3",
   "version": "3.11.4"
  }
 },
 "nbformat": 4,
 "nbformat_minor": 5
}
